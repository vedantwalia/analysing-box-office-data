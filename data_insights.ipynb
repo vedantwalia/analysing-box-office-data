{
 "cells": [
  {
   "cell_type": "markdown",
   "id": "e622130d",
   "metadata": {},
   "source": [
    "In this notebook, we will analyze the provided dataset to uncover patterns, trends, and insights. We will use various data analysis techniques, including data cleaning, visualization, and statistical methods, to better understand the underlying information and support data-driven decision making."
   ]
  },
  {
   "cell_type": "code",
   "execution_count": 2,
   "id": "9a9ef774",
   "metadata": {},
   "outputs": [],
   "source": [
    "# Import the pandas library for data manipulation and analysis\n",
    "import pandas as pd\n",
    "\n",
    "# Load the movie dataset from the specified CSV file into a DataFrame\n",
    "movies_df = pd.read_csv(\"data/TMDB_movie_dataset_v11.csv\")"
   ]
  },
  {
   "cell_type": "code",
   "execution_count": 3,
   "id": "dd2d8575",
   "metadata": {},
   "outputs": [
    {
     "name": "stdout",
     "output_type": "stream",
     "text": [
      "<class 'pandas.core.frame.DataFrame'>\n",
      "RangeIndex: 1251666 entries, 0 to 1251665\n",
      "Data columns (total 24 columns):\n",
      " #   Column                Non-Null Count    Dtype  \n",
      "---  ------                --------------    -----  \n",
      " 0   id                    1251666 non-null  int64  \n",
      " 1   title                 1251653 non-null  object \n",
      " 2   vote_average          1251666 non-null  float64\n",
      " 3   vote_count            1251666 non-null  int64  \n",
      " 4   status                1251666 non-null  object \n",
      " 5   release_date          1013760 non-null  object \n",
      " 6   revenue               1251666 non-null  int64  \n",
      " 7   runtime               1251666 non-null  int64  \n",
      " 8   adult                 1251666 non-null  bool   \n",
      " 9   backdrop_path         323415 non-null   object \n",
      " 10  budget                1251666 non-null  int64  \n",
      " 11  homepage              130709 non-null   object \n",
      " 12  imdb_id               629537 non-null   object \n",
      " 13  original_language     1251666 non-null  object \n",
      " 14  original_title        1251653 non-null  object \n",
      " 15  overview              982133 non-null   object \n",
      " 16  popularity            1251666 non-null  float64\n",
      " 17  poster_path           834761 non-null   object \n",
      " 18  tagline               175472 non-null   object \n",
      " 19  genres                726959 non-null   object \n",
      " 20  production_companies  550816 non-null   object \n",
      " 21  production_countries  672620 non-null   object \n",
      " 22  spoken_languages      695564 non-null   object \n",
      " 23  keywords              325241 non-null   object \n",
      "dtypes: bool(1), float64(2), int64(5), object(16)\n",
      "memory usage: 220.8+ MB\n"
     ]
    },
    {
     "data": {
      "application/vnd.microsoft.datawrangler.viewer.v0+json": {
       "columns": [
        {
         "name": "index",
         "rawType": "object",
         "type": "string"
        },
        {
         "name": "id",
         "rawType": "float64",
         "type": "float"
        },
        {
         "name": "vote_average",
         "rawType": "float64",
         "type": "float"
        },
        {
         "name": "vote_count",
         "rawType": "float64",
         "type": "float"
        },
        {
         "name": "revenue",
         "rawType": "float64",
         "type": "float"
        },
        {
         "name": "runtime",
         "rawType": "float64",
         "type": "float"
        },
        {
         "name": "budget",
         "rawType": "float64",
         "type": "float"
        },
        {
         "name": "popularity",
         "rawType": "float64",
         "type": "float"
        }
       ],
       "ref": "31aadbc5-357c-4427-bd9e-0917f58673f0",
       "rows": [
        [
         "count",
         "1251666.0",
         "1251666.0",
         "1251666.0",
         "1251666.0",
         "1251666.0",
         "1251666.0",
         "1251666.0"
        ],
        [
         "mean",
         "805872.0801531719",
         "1.7305857704850973",
         "17.13921525390959",
         "661022.5757925836",
         "46.12395079837592",
         "256580.5294487507",
         "1.1445447770754003"
        ],
        [
         "std",
         "429487.01359953376",
         "2.951801562659626",
         "303.5711561339391",
         "18810074.88486465",
         "61.34405372278355",
         "5211272.458298871",
         "7.236782919619505"
        ],
        [
         "min",
         "2.0",
         "0.0",
         "0.0",
         "-12.0",
         "-28.0",
         "0.0",
         "0.0"
        ],
        [
         "25%",
         "445385.25",
         "0.0",
         "0.0",
         "0.0",
         "0.0",
         "0.0",
         "0.6"
        ],
        [
         "50%",
         "815469.5",
         "0.0",
         "0.0",
         "0.0",
         "19.0",
         "0.0",
         "0.6"
        ],
        [
         "75%",
         "1189382.75",
         "4.0",
         "1.0",
         "0.0",
         "87.0",
         "0.0",
         "0.841"
        ],
        [
         "max",
         "1509144.0",
         "10.0",
         "34495.0",
         "4999999999.0",
         "14400.0",
         "999999999.0",
         "2994.357"
        ]
       ],
       "shape": {
        "columns": 7,
        "rows": 8
       }
      },
      "text/html": [
       "<div>\n",
       "<style scoped>\n",
       "    .dataframe tbody tr th:only-of-type {\n",
       "        vertical-align: middle;\n",
       "    }\n",
       "\n",
       "    .dataframe tbody tr th {\n",
       "        vertical-align: top;\n",
       "    }\n",
       "\n",
       "    .dataframe thead th {\n",
       "        text-align: right;\n",
       "    }\n",
       "</style>\n",
       "<table border=\"1\" class=\"dataframe\">\n",
       "  <thead>\n",
       "    <tr style=\"text-align: right;\">\n",
       "      <th></th>\n",
       "      <th>id</th>\n",
       "      <th>vote_average</th>\n",
       "      <th>vote_count</th>\n",
       "      <th>revenue</th>\n",
       "      <th>runtime</th>\n",
       "      <th>budget</th>\n",
       "      <th>popularity</th>\n",
       "    </tr>\n",
       "  </thead>\n",
       "  <tbody>\n",
       "    <tr>\n",
       "      <th>count</th>\n",
       "      <td>1.251666e+06</td>\n",
       "      <td>1.251666e+06</td>\n",
       "      <td>1.251666e+06</td>\n",
       "      <td>1.251666e+06</td>\n",
       "      <td>1.251666e+06</td>\n",
       "      <td>1.251666e+06</td>\n",
       "      <td>1.251666e+06</td>\n",
       "    </tr>\n",
       "    <tr>\n",
       "      <th>mean</th>\n",
       "      <td>8.058721e+05</td>\n",
       "      <td>1.730586e+00</td>\n",
       "      <td>1.713922e+01</td>\n",
       "      <td>6.610226e+05</td>\n",
       "      <td>4.612395e+01</td>\n",
       "      <td>2.565805e+05</td>\n",
       "      <td>1.144545e+00</td>\n",
       "    </tr>\n",
       "    <tr>\n",
       "      <th>std</th>\n",
       "      <td>4.294870e+05</td>\n",
       "      <td>2.951802e+00</td>\n",
       "      <td>3.035712e+02</td>\n",
       "      <td>1.881007e+07</td>\n",
       "      <td>6.134405e+01</td>\n",
       "      <td>5.211272e+06</td>\n",
       "      <td>7.236783e+00</td>\n",
       "    </tr>\n",
       "    <tr>\n",
       "      <th>min</th>\n",
       "      <td>2.000000e+00</td>\n",
       "      <td>0.000000e+00</td>\n",
       "      <td>0.000000e+00</td>\n",
       "      <td>-1.200000e+01</td>\n",
       "      <td>-2.800000e+01</td>\n",
       "      <td>0.000000e+00</td>\n",
       "      <td>0.000000e+00</td>\n",
       "    </tr>\n",
       "    <tr>\n",
       "      <th>25%</th>\n",
       "      <td>4.453852e+05</td>\n",
       "      <td>0.000000e+00</td>\n",
       "      <td>0.000000e+00</td>\n",
       "      <td>0.000000e+00</td>\n",
       "      <td>0.000000e+00</td>\n",
       "      <td>0.000000e+00</td>\n",
       "      <td>6.000000e-01</td>\n",
       "    </tr>\n",
       "    <tr>\n",
       "      <th>50%</th>\n",
       "      <td>8.154695e+05</td>\n",
       "      <td>0.000000e+00</td>\n",
       "      <td>0.000000e+00</td>\n",
       "      <td>0.000000e+00</td>\n",
       "      <td>1.900000e+01</td>\n",
       "      <td>0.000000e+00</td>\n",
       "      <td>6.000000e-01</td>\n",
       "    </tr>\n",
       "    <tr>\n",
       "      <th>75%</th>\n",
       "      <td>1.189383e+06</td>\n",
       "      <td>4.000000e+00</td>\n",
       "      <td>1.000000e+00</td>\n",
       "      <td>0.000000e+00</td>\n",
       "      <td>8.700000e+01</td>\n",
       "      <td>0.000000e+00</td>\n",
       "      <td>8.410000e-01</td>\n",
       "    </tr>\n",
       "    <tr>\n",
       "      <th>max</th>\n",
       "      <td>1.509144e+06</td>\n",
       "      <td>1.000000e+01</td>\n",
       "      <td>3.449500e+04</td>\n",
       "      <td>5.000000e+09</td>\n",
       "      <td>1.440000e+04</td>\n",
       "      <td>1.000000e+09</td>\n",
       "      <td>2.994357e+03</td>\n",
       "    </tr>\n",
       "  </tbody>\n",
       "</table>\n",
       "</div>"
      ],
      "text/plain": [
       "                 id  vote_average    vote_count       revenue       runtime  \\\n",
       "count  1.251666e+06  1.251666e+06  1.251666e+06  1.251666e+06  1.251666e+06   \n",
       "mean   8.058721e+05  1.730586e+00  1.713922e+01  6.610226e+05  4.612395e+01   \n",
       "std    4.294870e+05  2.951802e+00  3.035712e+02  1.881007e+07  6.134405e+01   \n",
       "min    2.000000e+00  0.000000e+00  0.000000e+00 -1.200000e+01 -2.800000e+01   \n",
       "25%    4.453852e+05  0.000000e+00  0.000000e+00  0.000000e+00  0.000000e+00   \n",
       "50%    8.154695e+05  0.000000e+00  0.000000e+00  0.000000e+00  1.900000e+01   \n",
       "75%    1.189383e+06  4.000000e+00  1.000000e+00  0.000000e+00  8.700000e+01   \n",
       "max    1.509144e+06  1.000000e+01  3.449500e+04  5.000000e+09  1.440000e+04   \n",
       "\n",
       "             budget    popularity  \n",
       "count  1.251666e+06  1.251666e+06  \n",
       "mean   2.565805e+05  1.144545e+00  \n",
       "std    5.211272e+06  7.236783e+00  \n",
       "min    0.000000e+00  0.000000e+00  \n",
       "25%    0.000000e+00  6.000000e-01  \n",
       "50%    0.000000e+00  6.000000e-01  \n",
       "75%    0.000000e+00  8.410000e-01  \n",
       "max    1.000000e+09  2.994357e+03  "
      ]
     },
     "execution_count": 3,
     "metadata": {},
     "output_type": "execute_result"
    }
   ],
   "source": [
    "# Display the first few rows of the DataFrame to get an overview of the data\n",
    "movies_df.head()\n",
    "movies_df.shape\n",
    "movies_df.info()\n",
    "movies_df.describe()"
   ]
  },
  {
   "cell_type": "code",
   "execution_count": 4,
   "id": "24a649b8",
   "metadata": {},
   "outputs": [
    {
     "data": {
      "application/vnd.microsoft.datawrangler.viewer.v0+json": {
       "columns": [
        {
         "name": "index",
         "rawType": "object",
         "type": "string"
        },
        {
         "name": "0",
         "rawType": "int64",
         "type": "integer"
        }
       ],
       "ref": "891097d2-2792-461c-9214-b062b5535a4c",
       "rows": [
        [
         "id",
         "0"
        ],
        [
         "title",
         "13"
        ],
        [
         "vote_average",
         "0"
        ],
        [
         "vote_count",
         "0"
        ],
        [
         "status",
         "0"
        ],
        [
         "release_date",
         "237906"
        ],
        [
         "revenue",
         "0"
        ],
        [
         "runtime",
         "0"
        ],
        [
         "adult",
         "0"
        ],
        [
         "backdrop_path",
         "928251"
        ],
        [
         "budget",
         "0"
        ],
        [
         "homepage",
         "1120957"
        ],
        [
         "imdb_id",
         "622129"
        ],
        [
         "original_language",
         "0"
        ],
        [
         "original_title",
         "13"
        ],
        [
         "overview",
         "269533"
        ],
        [
         "popularity",
         "0"
        ],
        [
         "poster_path",
         "416905"
        ],
        [
         "tagline",
         "1076194"
        ],
        [
         "genres",
         "524707"
        ],
        [
         "production_companies",
         "700850"
        ],
        [
         "production_countries",
         "579046"
        ],
        [
         "spoken_languages",
         "556102"
        ],
        [
         "keywords",
         "926425"
        ]
       ],
       "shape": {
        "columns": 1,
        "rows": 24
       }
      },
      "text/plain": [
       "id                            0\n",
       "title                        13\n",
       "vote_average                  0\n",
       "vote_count                    0\n",
       "status                        0\n",
       "release_date             237906\n",
       "revenue                       0\n",
       "runtime                       0\n",
       "adult                         0\n",
       "backdrop_path            928251\n",
       "budget                        0\n",
       "homepage                1120957\n",
       "imdb_id                  622129\n",
       "original_language             0\n",
       "original_title               13\n",
       "overview                 269533\n",
       "popularity                    0\n",
       "poster_path              416905\n",
       "tagline                 1076194\n",
       "genres                   524707\n",
       "production_companies     700850\n",
       "production_countries     579046\n",
       "spoken_languages         556102\n",
       "keywords                 926425\n",
       "dtype: int64"
      ]
     },
     "execution_count": 4,
     "metadata": {},
     "output_type": "execute_result"
    }
   ],
   "source": [
    "# Check for missing values in each column of the DataFrame\n",
    "movies_df.isnull().sum()"
   ]
  },
  {
   "cell_type": "code",
   "execution_count": 5,
   "id": "8bb01396",
   "metadata": {},
   "outputs": [
    {
     "data": {
      "text/plain": [
       "Index(['id', 'title', 'vote_average', 'vote_count', 'status', 'release_date',\n",
       "       'revenue', 'runtime', 'adult', 'backdrop_path', 'budget', 'homepage',\n",
       "       'imdb_id', 'original_language', 'original_title', 'overview',\n",
       "       'popularity', 'poster_path', 'tagline', 'genres',\n",
       "       'production_companies', 'production_countries', 'spoken_languages',\n",
       "       'keywords'],\n",
       "      dtype='object')"
      ]
     },
     "execution_count": 5,
     "metadata": {},
     "output_type": "execute_result"
    }
   ],
   "source": [
    "# Display the columns of the DataFrame to understand its structure\n",
    "movies_df.columns"
   ]
  },
  {
   "cell_type": "code",
   "execution_count": 9,
   "id": "bffc63dc",
   "metadata": {},
   "outputs": [
    {
     "data": {
      "application/vnd.microsoft.datawrangler.viewer.v0+json": {
       "columns": [
        {
         "name": "index",
         "rawType": "int64",
         "type": "integer"
        },
        {
         "name": "id",
         "rawType": "int64",
         "type": "integer"
        },
        {
         "name": "title",
         "rawType": "object",
         "type": "string"
        },
        {
         "name": "vote_average",
         "rawType": "float64",
         "type": "float"
        },
        {
         "name": "vote_count",
         "rawType": "int64",
         "type": "integer"
        },
        {
         "name": "status",
         "rawType": "object",
         "type": "string"
        },
        {
         "name": "release_date",
         "rawType": "object",
         "type": "string"
        },
        {
         "name": "revenue",
         "rawType": "int64",
         "type": "integer"
        },
        {
         "name": "runtime",
         "rawType": "int64",
         "type": "integer"
        },
        {
         "name": "adult",
         "rawType": "bool",
         "type": "boolean"
        },
        {
         "name": "backdrop_path",
         "rawType": "object",
         "type": "string"
        },
        {
         "name": "budget",
         "rawType": "int64",
         "type": "integer"
        },
        {
         "name": "homepage",
         "rawType": "object",
         "type": "string"
        },
        {
         "name": "imdb_id",
         "rawType": "object",
         "type": "string"
        },
        {
         "name": "original_language",
         "rawType": "object",
         "type": "string"
        },
        {
         "name": "original_title",
         "rawType": "object",
         "type": "string"
        },
        {
         "name": "overview",
         "rawType": "object",
         "type": "string"
        },
        {
         "name": "popularity",
         "rawType": "float64",
         "type": "float"
        },
        {
         "name": "poster_path",
         "rawType": "object",
         "type": "string"
        },
        {
         "name": "tagline",
         "rawType": "object",
         "type": "string"
        },
        {
         "name": "genres",
         "rawType": "object",
         "type": "string"
        },
        {
         "name": "production_companies",
         "rawType": "object",
         "type": "string"
        },
        {
         "name": "production_countries",
         "rawType": "object",
         "type": "string"
        },
        {
         "name": "spoken_languages",
         "rawType": "object",
         "type": "string"
        },
        {
         "name": "keywords",
         "rawType": "object",
         "type": "string"
        }
       ],
       "ref": "1e99b733-01f9-426c-9562-ca4ffa323ac0",
       "rows": [
        [
         "0",
         "27205",
         "Inception",
         "8.364",
         "34495",
         "Released",
         "2010-07-15",
         "825532764",
         "148",
         "False",
         "/8ZTVqvKDQ8emSGUEMjsS4yHAwrp.jpg",
         "160000000",
         "https://www.warnerbros.com/movies/inception",
         "tt1375666",
         "en",
         "Inception",
         "Cobb, a skilled thief who commits corporate espionage by infiltrating the subconscious of his targets is offered a chance to regain his old life as payment for a task considered to be impossible: \"inception\", the implantation of another person's idea into a target's subconscious.",
         "83.952",
         "/oYuLEt3zVCKq57qu2F8dT7NIa6f.jpg",
         "Your mind is the scene of the crime.",
         "Action, Science Fiction, Adventure",
         "Legendary Pictures, Syncopy, Warner Bros. Pictures",
         "United Kingdom, United States of America",
         "English, French, Japanese, Swahili",
         "rescue, mission, dream, airplane, paris, france, virtual reality, kidnapping, philosophy, spy, allegory, manipulation, car crash, heist, memory, architecture, los angeles, california, dream world, subconscious"
        ],
        [
         "1",
         "157336",
         "Interstellar",
         "8.417",
         "32571",
         "Released",
         "2014-11-05",
         "701729206",
         "169",
         "False",
         "/pbrkL804c8yAv3zBZR4QPEafpAR.jpg",
         "165000000",
         "http://www.interstellarmovie.net/",
         "tt0816692",
         "en",
         "Interstellar",
         "The adventures of a group of explorers who make use of a newly discovered wormhole to surpass the limitations on human space travel and conquer the vast distances involved in an interstellar voyage.",
         "140.241",
         "/gEU2QniE6E77NI6lCU6MxlNBvIx.jpg",
         "Mankind was born on Earth. It was never meant to die here.",
         "Adventure, Drama, Science Fiction",
         "Legendary Pictures, Syncopy, Lynda Obst Productions",
         "United Kingdom, United States of America",
         "English",
         "rescue, future, spacecraft, race against time, artificial intelligence (a.i.), nasa, time warp, dystopia, expedition, space travel, wormhole, famine, black hole, quantum mechanics, family relationships, space, robot, astronaut, scientist, single father, farmer, space station, curious, space adventure, time paradox, thoughtful, time-manipulation, father daughter relationship, 2060s, cornfield, time manipulation, complicated"
        ],
        [
         "2",
         "155",
         "The Dark Knight",
         "8.512",
         "30619",
         "Released",
         "2008-07-16",
         "1004558444",
         "152",
         "False",
         "/nMKdUUepR0i5zn0y1T4CsSB5chy.jpg",
         "185000000",
         "https://www.warnerbros.com/movies/dark-knight/",
         "tt0468569",
         "en",
         "The Dark Knight",
         "Batman raises the stakes in his war on crime. With the help of Lt. Jim Gordon and District Attorney Harvey Dent, Batman sets out to dismantle the remaining criminal organizations that plague the streets. The partnership proves to be effective, but they soon find themselves prey to a reign of chaos unleashed by a rising criminal mastermind known to the terrified citizens of Gotham as the Joker.",
         "130.643",
         "/qJ2tW6WMUDux911r6m7haRef0WH.jpg",
         "Welcome to a world without rules.",
         "Drama, Action, Crime, Thriller",
         "DC Comics, Legendary Pictures, Syncopy, Isobel Griffiths, Warner Bros. Pictures",
         "United Kingdom, United States of America",
         "English, Mandarin",
         "joker, sadism, chaos, secret identity, crime fighter, superhero, anti hero, scarecrow, based on comic, vigilante, organized crime, tragic hero, anti villain, criminal mastermind, district attorney, super power, super villain, neo-noir"
        ],
        [
         "3",
         "19995",
         "Avatar",
         "7.573",
         "29815",
         "Released",
         "2009-12-15",
         "2923706026",
         "162",
         "False",
         "/vL5LR6WdxWPjLPFRLe133jXWsh5.jpg",
         "237000000",
         "https://www.avatar.com/movies/avatar",
         "tt0499549",
         "en",
         "Avatar",
         "In the 22nd century, a paraplegic Marine is dispatched to the moon Pandora on a unique mission, but becomes torn between following orders and protecting an alien civilization.",
         "79.932",
         "/kyeqWdyUXW608qlYkRqosgbbJyK.jpg",
         "Enter the world of Pandora.",
         "Action, Adventure, Fantasy, Science Fiction",
         "Dune Entertainment, Lightstorm Entertainment, 20th Century Fox, Ingenious Media",
         "United States of America, United Kingdom",
         "English, Spanish",
         "future, society, culture clash, space travel, space war, space colony, tribe, romance, alien, futuristic, space, alien planet, marine, soldier, battle, love affair, nature, anti war, power relations, joyful"
        ],
        [
         "4",
         "24428",
         "The Avengers",
         "7.71",
         "29166",
         "Released",
         "2012-04-25",
         "1518815515",
         "143",
         "False",
         "/9BBTo63ANSmhC4e6r62OJFuK2GL.jpg",
         "220000000",
         "https://www.marvel.com/movies/the-avengers",
         "tt0848228",
         "en",
         "The Avengers",
         "When an unexpected enemy emerges and threatens global safety and security, Nick Fury, director of the international peacekeeping agency known as S.H.I.E.L.D., finds himself in need of a team to pull the world back from the brink of disaster. Spanning the globe, a daring recruitment effort begins!",
         "98.082",
         "/RYMX2wcKCBAr24UyPD7xwmjaTn.jpg",
         "Some assembly required.",
         "Science Fiction, Action, Adventure",
         "Marvel Studios",
         "United States of America",
         "English, Hindi, Russian",
         "new york city, superhero, shield, based on comic, alien invasion, superhero team, aftercreditsstinger, duringcreditsstinger, marvel cinematic universe (mcu)"
        ]
       ],
       "shape": {
        "columns": 24,
        "rows": 5
       }
      },
      "text/html": [
       "<div>\n",
       "<style scoped>\n",
       "    .dataframe tbody tr th:only-of-type {\n",
       "        vertical-align: middle;\n",
       "    }\n",
       "\n",
       "    .dataframe tbody tr th {\n",
       "        vertical-align: top;\n",
       "    }\n",
       "\n",
       "    .dataframe thead th {\n",
       "        text-align: right;\n",
       "    }\n",
       "</style>\n",
       "<table border=\"1\" class=\"dataframe\">\n",
       "  <thead>\n",
       "    <tr style=\"text-align: right;\">\n",
       "      <th></th>\n",
       "      <th>id</th>\n",
       "      <th>title</th>\n",
       "      <th>vote_average</th>\n",
       "      <th>vote_count</th>\n",
       "      <th>status</th>\n",
       "      <th>release_date</th>\n",
       "      <th>revenue</th>\n",
       "      <th>runtime</th>\n",
       "      <th>adult</th>\n",
       "      <th>backdrop_path</th>\n",
       "      <th>...</th>\n",
       "      <th>original_title</th>\n",
       "      <th>overview</th>\n",
       "      <th>popularity</th>\n",
       "      <th>poster_path</th>\n",
       "      <th>tagline</th>\n",
       "      <th>genres</th>\n",
       "      <th>production_companies</th>\n",
       "      <th>production_countries</th>\n",
       "      <th>spoken_languages</th>\n",
       "      <th>keywords</th>\n",
       "    </tr>\n",
       "  </thead>\n",
       "  <tbody>\n",
       "    <tr>\n",
       "      <th>0</th>\n",
       "      <td>27205</td>\n",
       "      <td>Inception</td>\n",
       "      <td>8.364</td>\n",
       "      <td>34495</td>\n",
       "      <td>Released</td>\n",
       "      <td>2010-07-15</td>\n",
       "      <td>825532764</td>\n",
       "      <td>148</td>\n",
       "      <td>False</td>\n",
       "      <td>/8ZTVqvKDQ8emSGUEMjsS4yHAwrp.jpg</td>\n",
       "      <td>...</td>\n",
       "      <td>Inception</td>\n",
       "      <td>Cobb, a skilled thief who commits corporate es...</td>\n",
       "      <td>83.952</td>\n",
       "      <td>/oYuLEt3zVCKq57qu2F8dT7NIa6f.jpg</td>\n",
       "      <td>Your mind is the scene of the crime.</td>\n",
       "      <td>Action, Science Fiction, Adventure</td>\n",
       "      <td>Legendary Pictures, Syncopy, Warner Bros. Pict...</td>\n",
       "      <td>United Kingdom, United States of America</td>\n",
       "      <td>English, French, Japanese, Swahili</td>\n",
       "      <td>rescue, mission, dream, airplane, paris, franc...</td>\n",
       "    </tr>\n",
       "    <tr>\n",
       "      <th>1</th>\n",
       "      <td>157336</td>\n",
       "      <td>Interstellar</td>\n",
       "      <td>8.417</td>\n",
       "      <td>32571</td>\n",
       "      <td>Released</td>\n",
       "      <td>2014-11-05</td>\n",
       "      <td>701729206</td>\n",
       "      <td>169</td>\n",
       "      <td>False</td>\n",
       "      <td>/pbrkL804c8yAv3zBZR4QPEafpAR.jpg</td>\n",
       "      <td>...</td>\n",
       "      <td>Interstellar</td>\n",
       "      <td>The adventures of a group of explorers who mak...</td>\n",
       "      <td>140.241</td>\n",
       "      <td>/gEU2QniE6E77NI6lCU6MxlNBvIx.jpg</td>\n",
       "      <td>Mankind was born on Earth. It was never meant ...</td>\n",
       "      <td>Adventure, Drama, Science Fiction</td>\n",
       "      <td>Legendary Pictures, Syncopy, Lynda Obst Produc...</td>\n",
       "      <td>United Kingdom, United States of America</td>\n",
       "      <td>English</td>\n",
       "      <td>rescue, future, spacecraft, race against time,...</td>\n",
       "    </tr>\n",
       "    <tr>\n",
       "      <th>2</th>\n",
       "      <td>155</td>\n",
       "      <td>The Dark Knight</td>\n",
       "      <td>8.512</td>\n",
       "      <td>30619</td>\n",
       "      <td>Released</td>\n",
       "      <td>2008-07-16</td>\n",
       "      <td>1004558444</td>\n",
       "      <td>152</td>\n",
       "      <td>False</td>\n",
       "      <td>/nMKdUUepR0i5zn0y1T4CsSB5chy.jpg</td>\n",
       "      <td>...</td>\n",
       "      <td>The Dark Knight</td>\n",
       "      <td>Batman raises the stakes in his war on crime. ...</td>\n",
       "      <td>130.643</td>\n",
       "      <td>/qJ2tW6WMUDux911r6m7haRef0WH.jpg</td>\n",
       "      <td>Welcome to a world without rules.</td>\n",
       "      <td>Drama, Action, Crime, Thriller</td>\n",
       "      <td>DC Comics, Legendary Pictures, Syncopy, Isobel...</td>\n",
       "      <td>United Kingdom, United States of America</td>\n",
       "      <td>English, Mandarin</td>\n",
       "      <td>joker, sadism, chaos, secret identity, crime f...</td>\n",
       "    </tr>\n",
       "    <tr>\n",
       "      <th>3</th>\n",
       "      <td>19995</td>\n",
       "      <td>Avatar</td>\n",
       "      <td>7.573</td>\n",
       "      <td>29815</td>\n",
       "      <td>Released</td>\n",
       "      <td>2009-12-15</td>\n",
       "      <td>2923706026</td>\n",
       "      <td>162</td>\n",
       "      <td>False</td>\n",
       "      <td>/vL5LR6WdxWPjLPFRLe133jXWsh5.jpg</td>\n",
       "      <td>...</td>\n",
       "      <td>Avatar</td>\n",
       "      <td>In the 22nd century, a paraplegic Marine is di...</td>\n",
       "      <td>79.932</td>\n",
       "      <td>/kyeqWdyUXW608qlYkRqosgbbJyK.jpg</td>\n",
       "      <td>Enter the world of Pandora.</td>\n",
       "      <td>Action, Adventure, Fantasy, Science Fiction</td>\n",
       "      <td>Dune Entertainment, Lightstorm Entertainment, ...</td>\n",
       "      <td>United States of America, United Kingdom</td>\n",
       "      <td>English, Spanish</td>\n",
       "      <td>future, society, culture clash, space travel, ...</td>\n",
       "    </tr>\n",
       "    <tr>\n",
       "      <th>4</th>\n",
       "      <td>24428</td>\n",
       "      <td>The Avengers</td>\n",
       "      <td>7.710</td>\n",
       "      <td>29166</td>\n",
       "      <td>Released</td>\n",
       "      <td>2012-04-25</td>\n",
       "      <td>1518815515</td>\n",
       "      <td>143</td>\n",
       "      <td>False</td>\n",
       "      <td>/9BBTo63ANSmhC4e6r62OJFuK2GL.jpg</td>\n",
       "      <td>...</td>\n",
       "      <td>The Avengers</td>\n",
       "      <td>When an unexpected enemy emerges and threatens...</td>\n",
       "      <td>98.082</td>\n",
       "      <td>/RYMX2wcKCBAr24UyPD7xwmjaTn.jpg</td>\n",
       "      <td>Some assembly required.</td>\n",
       "      <td>Science Fiction, Action, Adventure</td>\n",
       "      <td>Marvel Studios</td>\n",
       "      <td>United States of America</td>\n",
       "      <td>English, Hindi, Russian</td>\n",
       "      <td>new york city, superhero, shield, based on com...</td>\n",
       "    </tr>\n",
       "  </tbody>\n",
       "</table>\n",
       "<p>5 rows × 24 columns</p>\n",
       "</div>"
      ],
      "text/plain": [
       "       id            title  vote_average  vote_count    status release_date  \\\n",
       "0   27205        Inception         8.364       34495  Released   2010-07-15   \n",
       "1  157336     Interstellar         8.417       32571  Released   2014-11-05   \n",
       "2     155  The Dark Knight         8.512       30619  Released   2008-07-16   \n",
       "3   19995           Avatar         7.573       29815  Released   2009-12-15   \n",
       "4   24428     The Avengers         7.710       29166  Released   2012-04-25   \n",
       "\n",
       "      revenue  runtime  adult                     backdrop_path  ...  \\\n",
       "0   825532764      148  False  /8ZTVqvKDQ8emSGUEMjsS4yHAwrp.jpg  ...   \n",
       "1   701729206      169  False  /pbrkL804c8yAv3zBZR4QPEafpAR.jpg  ...   \n",
       "2  1004558444      152  False  /nMKdUUepR0i5zn0y1T4CsSB5chy.jpg  ...   \n",
       "3  2923706026      162  False  /vL5LR6WdxWPjLPFRLe133jXWsh5.jpg  ...   \n",
       "4  1518815515      143  False  /9BBTo63ANSmhC4e6r62OJFuK2GL.jpg  ...   \n",
       "\n",
       "    original_title                                           overview  \\\n",
       "0        Inception  Cobb, a skilled thief who commits corporate es...   \n",
       "1     Interstellar  The adventures of a group of explorers who mak...   \n",
       "2  The Dark Knight  Batman raises the stakes in his war on crime. ...   \n",
       "3           Avatar  In the 22nd century, a paraplegic Marine is di...   \n",
       "4     The Avengers  When an unexpected enemy emerges and threatens...   \n",
       "\n",
       "  popularity                       poster_path  \\\n",
       "0     83.952  /oYuLEt3zVCKq57qu2F8dT7NIa6f.jpg   \n",
       "1    140.241  /gEU2QniE6E77NI6lCU6MxlNBvIx.jpg   \n",
       "2    130.643  /qJ2tW6WMUDux911r6m7haRef0WH.jpg   \n",
       "3     79.932  /kyeqWdyUXW608qlYkRqosgbbJyK.jpg   \n",
       "4     98.082   /RYMX2wcKCBAr24UyPD7xwmjaTn.jpg   \n",
       "\n",
       "                                             tagline  \\\n",
       "0               Your mind is the scene of the crime.   \n",
       "1  Mankind was born on Earth. It was never meant ...   \n",
       "2                  Welcome to a world without rules.   \n",
       "3                        Enter the world of Pandora.   \n",
       "4                            Some assembly required.   \n",
       "\n",
       "                                        genres  \\\n",
       "0           Action, Science Fiction, Adventure   \n",
       "1            Adventure, Drama, Science Fiction   \n",
       "2               Drama, Action, Crime, Thriller   \n",
       "3  Action, Adventure, Fantasy, Science Fiction   \n",
       "4           Science Fiction, Action, Adventure   \n",
       "\n",
       "                                production_companies  \\\n",
       "0  Legendary Pictures, Syncopy, Warner Bros. Pict...   \n",
       "1  Legendary Pictures, Syncopy, Lynda Obst Produc...   \n",
       "2  DC Comics, Legendary Pictures, Syncopy, Isobel...   \n",
       "3  Dune Entertainment, Lightstorm Entertainment, ...   \n",
       "4                                     Marvel Studios   \n",
       "\n",
       "                       production_countries  \\\n",
       "0  United Kingdom, United States of America   \n",
       "1  United Kingdom, United States of America   \n",
       "2  United Kingdom, United States of America   \n",
       "3  United States of America, United Kingdom   \n",
       "4                  United States of America   \n",
       "\n",
       "                     spoken_languages  \\\n",
       "0  English, French, Japanese, Swahili   \n",
       "1                             English   \n",
       "2                   English, Mandarin   \n",
       "3                    English, Spanish   \n",
       "4             English, Hindi, Russian   \n",
       "\n",
       "                                            keywords  \n",
       "0  rescue, mission, dream, airplane, paris, franc...  \n",
       "1  rescue, future, spacecraft, race against time,...  \n",
       "2  joker, sadism, chaos, secret identity, crime f...  \n",
       "3  future, society, culture clash, space travel, ...  \n",
       "4  new york city, superhero, shield, based on com...  \n",
       "\n",
       "[5 rows x 24 columns]"
      ]
     },
     "execution_count": 9,
     "metadata": {},
     "output_type": "execute_result"
    }
   ],
   "source": [
    "movies_df.head()"
   ]
  },
  {
   "cell_type": "code",
   "execution_count": null,
   "id": "36026ee9",
   "metadata": {},
   "outputs": [],
   "source": [
    "from collections import Counter\n",
    "import matplotlib.pyplot as plt\n",
    "import seaborn as sns\n",
    "\n",
    "all_genres = sum(movies_df['genres'].str.split(',').dropna().tolist(), [])\n",
    "genre_counts = Counter(all_genres)\n",
    "\n",
    "top_genres = pd.DataFrame(genre_counts.items(), columns=[\"Genre\", \"Count\"])\n",
    "top_genres = top_genres.sort_values(\"Count\", ascending=False)\n",
    "\n",
    "sns.barplot(data=top_genres.head(10), x=\"Genre\", y=\"Count\", palette=\"viridis\")\n",
    "plt.title(\"Top Genres in TMDb Movies\")\n",
    "plt.xticks(rotation=45)\n",
    "plt.show()"
   ]
  },
  {
   "cell_type": "code",
   "execution_count": null,
   "id": "69a58955",
   "metadata": {},
   "outputs": [],
   "source": []
  },
  {
   "cell_type": "code",
   "execution_count": null,
   "id": "0b8342a0",
   "metadata": {},
   "outputs": [],
   "source": []
  }
 ],
 "metadata": {
  "kernelspec": {
   "display_name": "Python 3",
   "language": "python",
   "name": "python3"
  },
  "language_info": {
   "codemirror_mode": {
    "name": "ipython",
    "version": 3
   },
   "file_extension": ".py",
   "mimetype": "text/x-python",
   "name": "python",
   "nbconvert_exporter": "python",
   "pygments_lexer": "ipython3",
   "version": "3.9.6"
  }
 },
 "nbformat": 4,
 "nbformat_minor": 5
}
